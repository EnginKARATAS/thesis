{
 "cells": [
  {
   "cell_type": "code",
   "execution_count": 12,
   "id": "833833e7",
   "metadata": {},
   "outputs": [],
   "source": [
    "from elasticsearch import Elasticsearch, helpers\n",
    "import configparser\n",
    "from datetime import datetime\n"
   ]
  },
  {
   "cell_type": "code",
   "execution_count": 2,
   "id": "56e4f1ce",
   "metadata": {},
   "outputs": [],
   "source": [
    "config = configparser.ConfigParser()\n"
   ]
  },
  {
   "cell_type": "code",
   "execution_count": 33,
   "id": "5355cc0a",
   "metadata": {},
   "outputs": [],
   "source": [
    "doc = {\n",
    "    'author': 'Engin Karatas',\n",
    "    'text': 'Elastic Search Metrikler Ve Aramalar Veri',\n",
    "    'timestamp': datetime.now(),\n",
    "}"
   ]
  },
  {
   "cell_type": "code",
   "execution_count": 3,
   "id": "87d9efe4",
   "metadata": {},
   "outputs": [
    {
     "data": {
      "text/plain": [
       "['example.ini']"
      ]
     },
     "execution_count": 3,
     "metadata": {},
     "output_type": "execute_result"
    }
   ],
   "source": [
    "config.read('example.ini')"
   ]
  },
  {
   "cell_type": "code",
   "execution_count": 4,
   "id": "134daf36",
   "metadata": {},
   "outputs": [],
   "source": [
    "es = Elasticsearch(\n",
    "    cloud_id=config['ELASTIC']['cloud_id'],\n",
    "    http_auth=(config['ELASTIC']['user'], config['ELASTIC']['password'])\n",
    ")"
   ]
  },
  {
   "cell_type": "code",
   "execution_count": 5,
   "id": "f856a0b7",
   "metadata": {},
   "outputs": [
    {
     "data": {
      "text/plain": [
       "{'name': 'instance-0000000001',\n",
       " 'cluster_name': '36f576bb32344b758acb4f7991ad5f14',\n",
       " 'cluster_uuid': '2v6ksTLWQRG4X-1lYmqwZw',\n",
       " 'version': {'number': '7.16.2',\n",
       "  'build_flavor': 'default',\n",
       "  'build_type': 'docker',\n",
       "  'build_hash': '2b937c44140b6559905130a8650c64dbd0879cfb',\n",
       "  'build_date': '2021-12-18T19:42:46.604893745Z',\n",
       "  'build_snapshot': False,\n",
       "  'lucene_version': '8.10.1',\n",
       "  'minimum_wire_compatibility_version': '6.8.0',\n",
       "  'minimum_index_compatibility_version': '6.0.0-beta1'},\n",
       " 'tagline': 'You Know, for Search'}"
      ]
     },
     "execution_count": 5,
     "metadata": {},
     "output_type": "execute_result"
    }
   ],
   "source": [
    "es.info()"
   ]
  },
  {
   "cell_type": "code",
   "execution_count": 6,
   "id": "c1746dfd",
   "metadata": {},
   "outputs": [
    {
     "data": {
      "text/plain": [
       "{'acknowledged': True, 'shards_acknowledged': True, 'index': 'some-new-index'}"
      ]
     },
     "execution_count": 6,
     "metadata": {},
     "output_type": "execute_result"
    }
   ],
   "source": [
    "#es.indices.create(index='duygular')\n"
   ]
  },
  {
   "cell_type": "code",
   "execution_count": 7,
   "id": "afefe0b7",
   "metadata": {},
   "outputs": [
    {
     "data": {
      "text/plain": [
       "{'acknowledged': True}"
      ]
     },
     "execution_count": 7,
     "metadata": {},
     "output_type": "execute_result"
    }
   ],
   "source": [
    "#es.indices.delete(index='some-new-index')\n"
   ]
  },
  {
   "cell_type": "code",
   "execution_count": 38,
   "id": "627b8d75",
   "metadata": {},
   "outputs": [
    {
     "name": "stdout",
     "output_type": "stream",
     "text": [
      "created\n"
     ]
    }
   ],
   "source": [
    "res = es.index(index=\"duygular\", body=doc)\n",
    "print(res['result'])"
   ]
  },
  {
   "cell_type": "code",
   "execution_count": 40,
   "id": "ca755b2a",
   "metadata": {},
   "outputs": [
    {
     "name": "stdout",
     "output_type": "stream",
     "text": [
      "{'author': 'Engin Karatas', 'text': 'Elastic Search Metrikler Ve Aramalar Veri', 'timestamp': '2022-01-09T17:39:07.288346'}\n"
     ]
    }
   ],
   "source": [
    "res = es.get(index=\"duygular\", id=2)\n",
    "print(res['_source'])"
   ]
  },
  {
   "cell_type": "code",
   "execution_count": 18,
   "id": "8410ea12",
   "metadata": {},
   "outputs": [
    {
     "data": {
      "text/plain": [
       "{'_shards': {'total': 2, 'successful': 2, 'failed': 0}}"
      ]
     },
     "execution_count": 18,
     "metadata": {},
     "output_type": "execute_result"
    }
   ],
   "source": [
    "es.indices.refresh(index=\"duygular\")\n"
   ]
  },
  {
   "cell_type": "code",
   "execution_count": 41,
   "id": "a61254cf",
   "metadata": {},
   "outputs": [
    {
     "name": "stdout",
     "output_type": "stream",
     "text": [
      "Got 4 Hits:\n",
      "2022-01-09T17:37:48.645170 Xanxis Artelias: Alsiti Mur Kenburne derrites replikan\n",
      "2022-01-09T17:37:48.645170 Xanxis Artelias: Alsiti Mur Kenburne derrites replikan\n",
      "2022-01-09T17:39:07.288346 Engin Karatas: Elastic Search Metrikler Ve Aramalar Veri\n",
      "2022-01-09T17:39:07.288346 Engin Karatas: Elastic Search Metrikler Ve Aramalar Veri\n"
     ]
    }
   ],
   "source": [
    "res = es.search(index=\"duygular\", body={\"query\": {\"match_all\": {}}})\n",
    "print(\"Got %d Hits:\" % res['hits']['total']['value'])\n",
    "for hit in res['hits']['hits']:\n",
    "    print(\"%(timestamp)s %(author)s: %(text)s\" % hit[\"_source\"])"
   ]
  },
  {
   "cell_type": "code",
   "execution_count": 22,
   "id": "c8d7da92",
   "metadata": {},
   "outputs": [
    {
     "data": {
      "text/plain": [
       "[{'_index': 'duygular',\n",
       "  '_type': '_doc',\n",
       "  '_id': '1',\n",
       "  '_score': 1.0,\n",
       "  '_source': {'author': 'Engin Karatas',\n",
       "   'text': 'Elastic Search Metrikler Ve Aramalar Nosql Veritabanı',\n",
       "   'timestamp': '2022-01-09T15:24:50.400830'}}]"
      ]
     },
     "execution_count": 22,
     "metadata": {},
     "output_type": "execute_result"
    }
   ],
   "source": [
    "res[\"hits\"][\"hits\"]"
   ]
  },
  {
   "cell_type": "code",
   "execution_count": null,
   "id": "ab0631c3",
   "metadata": {},
   "outputs": [],
   "source": []
  }
 ],
 "metadata": {
  "kernelspec": {
   "display_name": "Python 3",
   "language": "python",
   "name": "python3"
  },
  "language_info": {
   "codemirror_mode": {
    "name": "ipython",
    "version": 3
   },
   "file_extension": ".py",
   "mimetype": "text/x-python",
   "name": "python",
   "nbconvert_exporter": "python",
   "pygments_lexer": "ipython3",
   "version": "3.8.8"
  }
 },
 "nbformat": 4,
 "nbformat_minor": 5
}
